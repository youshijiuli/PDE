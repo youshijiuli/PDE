{
 "cells": [
  {
   "cell_type": "markdown",
   "metadata": {},
   "source": [
    "# 考虑一维椭圆问题\n",
    "$$-u''+u=f，x\\in(0,1)$$\n",
    "边界条件：$$u(0)=u(1)=0$$\n",
    "其中:$$f=2+x-x^2$$"
   ]
  },
  {
   "cell_type": "code",
   "execution_count": 1,
   "metadata": {},
   "outputs": [],
   "source": [
    "'''x轴均匀剖分成N段'''\n",
    "import numpy as np\n",
    "I = [0, 1]\n",
    "N = 3 \n",
    "h = 1 / N\n",
    "x = np.linspace(0, 1, N + 1)"
   ]
  },
  {
   "cell_type": "code",
   "execution_count": 2,
   "metadata": {},
   "outputs": [],
   "source": [
    "'''组装刚度矩阵A'''\n",
    "A = np.zeros((N + 1, N + 1))\n",
    "for i in np.arange(N):\n",
    "    A[i][i] = A[i][i] + 1 / h\n",
    "    A[i][i + 1] = A[i][i + 1] - 1 / h\n",
    "    A[i + 1][i] = A[i + 1][i] - 1 / h\n",
    "    A[i + 1][i + 1] = A[i + 1][i + 1] + 1 / h"
   ]
  },
  {
   "cell_type": "code",
   "execution_count": 3,
   "metadata": {},
   "outputs": [],
   "source": [
    "'''组装质量矩阵M'''\n",
    "M = np.zeros((N + 1, N + 1))\n",
    "for i in np.arange(N):    \n",
    "    M[i][i] = M[i][i] + h / 3\n",
    "    M[i][i + 1] = M[i][i + 1] + h / 6\n",
    "    M[i + 1][i] = M[i + 1][i] + h / 6\n",
    "    M[i + 1][i + 1] = M[i + 1][i + 1] + h / 3"
   ]
  },
  {
   "cell_type": "code",
   "execution_count": 4,
   "metadata": {},
   "outputs": [],
   "source": [
    "'''组装载荷向量b'''\n",
    "def f(x):\n",
    "    f = 2 + x - x ** 2\n",
    "    return f\n",
    "b = np.zeros(N + 1)\n",
    "for i in np.arange(N):\n",
    "    b[i] = b[i] + f(x[i]) * h / 2\n",
    "    b[i + 1] = b[i + 1] + f(x[i + 1]) * h / 2"
   ]
  },
  {
   "cell_type": "code",
   "execution_count": 5,
   "metadata": {},
   "outputs": [],
   "source": [
    "'''零边界条件处理'''\n",
    "A = A + M\n",
    "A[[0, -1], :] = 0\n",
    "A[:, [0, -1]] = 0\n",
    "A[(0, -1), (0, -1)] = 1\n",
    "b[0] = 0\n",
    "b[-1] = 0"
   ]
  },
  {
   "cell_type": "code",
   "execution_count": 6,
   "metadata": {},
   "outputs": [
    {
     "name": "stdout",
     "output_type": "stream",
     "text": [
      "[0.        0.2259887 0.2259887 0.       ]\n"
     ]
    }
   ],
   "source": [
    "'''求解代数方程组得数值解U_h'''\n",
    "U_h = np.zeros(N + 1)\n",
    "U_h = np.linalg.solve(A, b)\n",
    "print(U_h)"
   ]
  },
  {
   "cell_type": "code",
   "execution_count": null,
   "metadata": {},
   "outputs": [],
   "source": []
  }
 ],
 "metadata": {
  "kernelspec": {
   "display_name": "Python 3",
   "language": "python",
   "name": "python3"
  },
  "language_info": {
   "codemirror_mode": {
    "name": "ipython",
    "version": 3
   },
   "file_extension": ".py",
   "mimetype": "text/x-python",
   "name": "python",
   "nbconvert_exporter": "python",
   "pygments_lexer": "ipython3",
   "version": "3.6.4"
  }
 },
 "nbformat": 4,
 "nbformat_minor": 2
}
