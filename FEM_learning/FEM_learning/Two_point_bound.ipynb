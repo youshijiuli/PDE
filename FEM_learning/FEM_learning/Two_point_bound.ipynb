{
 "cells": [
  {
   "cell_type": "markdown",
   "metadata": {},
   "source": [
    "# 考虑两点边值问题\n",
    "$$-u''=f，x\\in(0,1)$$\n",
    "边界条件：u(0)=u(1)=0\n",
    "其中$f=\\pi^2\\sin\\pi x$"
   ]
  },
  {
   "cell_type": "code",
   "execution_count": 11,
   "metadata": {},
   "outputs": [
    {
     "name": "stdout",
     "output_type": "stream",
     "text": [
      "0.00014200246344625632\n"
     ]
    }
   ],
   "source": [
    "import numpy as np\n",
    "I = [0, 1]\n",
    "N = 64 \n",
    "h = 1 / N\n",
    "x = np.linspace(0, 1, N + 1)\n",
    "A = np.zeros((N + 1, N + 1))\n",
    "for i in np.arange(N):\n",
    "    A[i][i] = A[i][i] + 1 / h\n",
    "    A[i][i + 1] = A[i][i + 1] - 1 / h\n",
    "    A[i + 1][i] = A[i + 1][i] - 1 / h\n",
    "    A[i + 1][i + 1] = A[i + 1][i + 1] + 1 / h\n",
    "A[[0, -1], :] = 0\n",
    "A[:, [0, -1]] = 0\n",
    "A[(0, -1), (0, -1)] = 1\n",
    "def f(x):\n",
    "    f = (np.pi) ** 2 * np.sin(np.pi * x)\n",
    "    return f\n",
    "b = np.zeros(N + 1)\n",
    "for i in np.arange(N):\n",
    "    b[i] = b[i] + f(x[i]) * h / 2\n",
    "    b[i + 1] = b[i + 1] + f(x[i + 1]) * h / 2\n",
    "b[0] = 0\n",
    "b[-1] = 0\n",
    "U_h = np.zeros(N + 1)\n",
    "U_h = np.linalg.solve(A, b)\n",
    "def u(x):\n",
    "    u = np.sin(np.pi * x)\n",
    "    return u\n",
    "U = np.zeros(N + 1)\n",
    "for i in np.arange(N + 1):\n",
    "    U[i] = u(x[i])\n",
    "e_1 = np.zeros(N + 1)\n",
    "for i in np.arange(N):\n",
    "    e_1[i] = e_1[i] + ((U-U_h) ** 2)[i]\n",
    "    e_1[i + 1] = e_1[i + 1] + ((U-U_h) ** 2)[i + 1]\n",
    "e = np.sum(e_1) * h / 2\n",
    "error = np.sqrt(e)\n",
    "print(error)"
   ]
  },
  {
   "cell_type": "markdown",
   "metadata": {},
   "source": [
    "# error4=0.03749736882492478\n",
    "# error8=0.009157560828470388\n",
    "# error16=0.0022761515839786364\n",
    "# error32=0.000568215226292381\n",
    "# error64=0.00014200246344625632"
   ]
  },
  {
   "cell_type": "code",
   "execution_count": 12,
   "metadata": {},
   "outputs": [
    {
     "data": {
      "text/plain": [
       "[4.094689571522951, 4.0232649235352245, 4.005791254188283, 4.001446260173039]"
      ]
     },
     "execution_count": 12,
     "metadata": {},
     "output_type": "execute_result"
    }
   ],
   "source": [
    "error4=0.03749736882492478\n",
    "error8=0.009157560828470388\n",
    "error16=0.0022761515839786364\n",
    "error32=0.000568215226292381\n",
    "error64=0.00014200246344625632\n",
    "[error4/error8,error8/error16,error16/error32,error32/error64]"
   ]
  },
  {
   "cell_type": "code",
   "execution_count": null,
   "metadata": {},
   "outputs": [],
   "source": []
  }
 ],
 "metadata": {
  "kernelspec": {
   "display_name": "Python 3",
   "language": "python",
   "name": "python3"
  },
  "language_info": {
   "codemirror_mode": {
    "name": "ipython",
    "version": 3
   },
   "file_extension": ".py",
   "mimetype": "text/x-python",
   "name": "python",
   "nbconvert_exporter": "python",
   "pygments_lexer": "ipython3",
   "version": "3.6.4"
  }
 },
 "nbformat": 4,
 "nbformat_minor": 2
}
