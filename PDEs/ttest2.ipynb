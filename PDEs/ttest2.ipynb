{
 "cells": [
  {
   "cell_type": "code",
   "execution_count": 1,
   "metadata": {},
   "outputs": [],
   "source": [
    "import numpy as np\n",
    "from fealpy.mesh.simple_mesh_generator import rectangledomainmesh\n",
    "from fealpy.mesh.TriangleMesh import TriangleMesh,TriangleMeshDataStructure\n",
    "import matplotlib.pyplot as plt\n",
    "%matplotlib inline"
   ]
  },
  {
   "cell_type": "code",
   "execution_count": 3,
   "metadata": {},
   "outputs": [],
   "source": [
    "box = [0,1,0,1]\n",
    "mesh = rectangledomainmesh(box, nx=3, ny=5, meshtype='tri')#三角形剖分\n",
    "node = mesh.node\n",
    "cell = mesh.ds.cell\n",
    "tmesh = TriangleMesh(node,cell)\n",
    "Dlambda = tmesh.grad_lambda()"
   ]
  },
  {
   "cell_type": "code",
   "execution_count": 35,
   "metadata": {},
   "outputs": [],
   "source": [
    "c,R = tmesh.circumcenter()\n",
    "angle = tmesh.angle()\n",
    "J = tmesh.jacobi_matrix(cellidx=None)\n",
    "Rlambda = tmesh.rot_lambda()\n",
    "a = tmesh.cell_area(index=None)"
   ]
  },
  {
   "cell_type": "code",
   "execution_count": null,
   "metadata": {},
   "outputs": [],
   "source": []
  }
 ],
 "metadata": {
  "kernelspec": {
   "display_name": "Python 3",
   "language": "python",
   "name": "python3"
  },
  "language_info": {
   "codemirror_mode": {
    "name": "ipython",
    "version": 3
   },
   "file_extension": ".py",
   "mimetype": "text/x-python",
   "name": "python",
   "nbconvert_exporter": "python",
   "pygments_lexer": "ipython3",
   "version": "3.6.4"
  }
 },
 "nbformat": 4,
 "nbformat_minor": 2
}
