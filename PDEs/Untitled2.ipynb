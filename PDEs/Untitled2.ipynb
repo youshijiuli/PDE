{
 "cells": [
  {
   "cell_type": "code",
   "execution_count": 1,
   "metadata": {},
   "outputs": [],
   "source": [
    "import numpy as np \n",
    "import matplotlib.pyplot as plt \n",
    "%matplotlib inline"
   ]
  },
  {
   "cell_type": "code",
   "execution_count": 13,
   "metadata": {},
   "outputs": [],
   "source": [
    "n=32"
   ]
  },
  {
   "cell_type": "code",
   "execution_count": 14,
   "metadata": {},
   "outputs": [
    {
     "name": "stdout",
     "output_type": "stream",
     "text": [
      "[[[0.         0.        ]\n",
      "  [0.         0.03225806]\n",
      "  [0.         0.06451613]\n",
      "  ...\n",
      "  [0.         0.93548387]\n",
      "  [0.         0.96774194]\n",
      "  [0.         1.        ]]\n",
      "\n",
      " [[0.03225806 0.        ]\n",
      "  [0.03225806 0.03225806]\n",
      "  [0.03225806 0.06451613]\n",
      "  ...\n",
      "  [0.03225806 0.93548387]\n",
      "  [0.03225806 0.96774194]\n",
      "  [0.03225806 1.        ]]\n",
      "\n",
      " [[0.06451613 0.        ]\n",
      "  [0.06451613 0.03225806]\n",
      "  [0.06451613 0.06451613]\n",
      "  ...\n",
      "  [0.06451613 0.93548387]\n",
      "  [0.06451613 0.96774194]\n",
      "  [0.06451613 1.        ]]\n",
      "\n",
      " ...\n",
      "\n",
      " [[0.93548387 0.        ]\n",
      "  [0.93548387 0.03225806]\n",
      "  [0.93548387 0.06451613]\n",
      "  ...\n",
      "  [0.93548387 0.93548387]\n",
      "  [0.93548387 0.96774194]\n",
      "  [0.93548387 1.        ]]\n",
      "\n",
      " [[0.96774194 0.        ]\n",
      "  [0.96774194 0.03225806]\n",
      "  [0.96774194 0.06451613]\n",
      "  ...\n",
      "  [0.96774194 0.93548387]\n",
      "  [0.96774194 0.96774194]\n",
      "  [0.96774194 1.        ]]\n",
      "\n",
      " [[1.         0.        ]\n",
      "  [1.         0.03225806]\n",
      "  [1.         0.06451613]\n",
      "  ...\n",
      "  [1.         0.93548387]\n",
      "  [1.         0.96774194]\n",
      "  [1.         1.        ]]]\n"
     ]
    }
   ],
   "source": [
    "a=np.linspace(0,1,n,endpoint=True)\n",
    "node=np.zeros((n,n,2),dtype=float)\n",
    "for i in np.arange(n):\n",
    "    for j in np.arange(n):\n",
    "        node[i,j,0],node[i,j,1]=a[i],a[j]\n",
    "print(node)"
   ]
  },
  {
   "cell_type": "code",
   "execution_count": null,
   "metadata": {},
   "outputs": [],
   "source": []
  },
  {
   "cell_type": "code",
   "execution_count": null,
   "metadata": {},
   "outputs": [],
   "source": [
    "cell=np.zeros((n+1,n+1,3),dtype=int)\n",
    "for i in np.arange(n+1):\n",
    "    for j in np.arange(n+1):\n",
    "        cell1[i,j,0],[i,j,1]=a[i],a[j]"
   ]
  }
 ],
 "metadata": {
  "kernelspec": {
   "display_name": "Python 3",
   "language": "python",
   "name": "python3"
  },
  "language_info": {
   "codemirror_mode": {
    "name": "ipython",
    "version": 3
   },
   "file_extension": ".py",
   "mimetype": "text/x-python",
   "name": "python",
   "nbconvert_exporter": "python",
   "pygments_lexer": "ipython3",
   "version": "3.6.4"
  }
 },
 "nbformat": 4,
 "nbformat_minor": 2
}
