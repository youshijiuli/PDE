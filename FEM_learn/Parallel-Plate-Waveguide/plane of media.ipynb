{
 "cells": [
  {
   "cell_type": "markdown",
   "id": "4d3b9628",
   "metadata": {},
   "source": [
    "# 导入库"
   ]
  },
  {
   "cell_type": "code",
   "execution_count": 16,
   "id": "dc5a01f9",
   "metadata": {},
   "outputs": [],
   "source": [
    "import meshio\n",
    "import numpy as np\n",
    "import matplotlib.pyplot as plt\n",
    "from cmath import *\n",
    "%matplotlib inline"
   ]
  },
  {
   "cell_type": "markdown",
   "id": "8509858e",
   "metadata": {},
   "source": [
    "# 读取网格信息"
   ]
  },
  {
   "cell_type": "code",
   "execution_count": 17,
   "id": "216c4065",
   "metadata": {},
   "outputs": [],
   "source": [
    "mesh = meshio.read(\"waveguide_plane.msh\", file_format = (\"gmsh\"))\n",
    "\n",
    "# 节点坐标提取\n",
    "nodes = mesh.points\n",
    "Nn = nodes.shape[0]\n",
    "x = nodes[:, 0]; y = nodes[:, 1]\n",
    "\n",
    "# 物理组件编号提取\n",
    "phy_line = mesh.cell_data_dict[\"gmsh:physical\"][\"line\"]\n",
    "phy_triangle = mesh.cell_data_dict[\"gmsh:physical\"][\"triangle\"]\n",
    "\n",
    "# 单元编码提取\n",
    "ele_line = mesh.cells_dict[\"line\"]\n",
    "ele_triangle = mesh.cells_dict[\"triangle\"]\n",
    "\n",
    "# ele_filter 为单元筛选函数\n",
    "def ele_filter(ele_data, phy_data, num_phy):\n",
    "    num = np.where(phy_data == num_phy)\n",
    "    count = len(num[0])\n",
    "    elements = ele_data[num[0], :].T\n",
    "    return (count, elements)"
   ]
  },
  {
   "cell_type": "markdown",
   "id": "4b06a327",
   "metadata": {},
   "source": [
    "# 刚度矩阵计算"
   ]
  },
  {
   "cell_type": "code",
   "execution_count": 18,
   "id": "468dc94a",
   "metadata": {},
   "outputs": [],
   "source": [
    "# stiffness_matrix  函数用于刚度矩阵方程的计算\n",
    "def stiffness_matrix(Ne, n, K, B, alphax, alphay, beta, f):\n",
    "    Ke = np.zeros((3, 3), dtype = complex)\n",
    "    Be = np.zeros((3), dtype = complex)\n",
    "    be = np.zeros((3), dtype = float)\n",
    "    ce = np.zeros((3), dtype = float)\n",
    "    \n",
    "    for e in range(0, Ne):\n",
    "        be[0] = y[n[1, e]]-y[n[2, e]]\n",
    "        be[1] = y[n[2, e]]-y[n[0, e]]\n",
    "        be[2] = y[n[0, e]]-y[n[1, e]]\n",
    "        ce[0] = x[n[2, e]]-x[n[1, e]]\n",
    "        ce[1] = x[n[0, e]]-x[n[2, e]]\n",
    "        ce[2] = x[n[1, e]]-x[n[0, e]]\n",
    "        # 三角单元面积\n",
    "        Deltae = abs((be[0]*ce[1]-be[1]*ce[0]))/2.\n",
    "        \n",
    "        # 单元刚度矩阵计算\n",
    "        for i in range(0, 3):\n",
    "            for j in range(0, 3):\n",
    "                if (i == j):\n",
    "                    delta_ij = 1\n",
    "                else:\n",
    "                    delta_ij = 0\n",
    "                Ke[i][j] = (alphax*be[i]*be[j]+alphay*ce[i]*ce[j])/(4.*Deltae)\\\n",
    "                        +Deltae*beta*(1+delta_ij)/12.\n",
    "            Be[i] = Deltae*f/3.\n",
    "        # 单元刚度矩阵组合至总刚度矩阵\n",
    "        for i in range(0, 3):\n",
    "            for j in range(0, 3):\n",
    "                K[n[i][e]][n[j][e]] = K[n[i][e]][n[j][e]]+Ke[i][j]\n",
    "            B[n[i][e]] = B[n[i][e]]+Be[i]\n",
    "    return (K, B)"
   ]
  },
  {
   "cell_type": "markdown",
   "id": "c8e0699f",
   "metadata": {},
   "source": [
    "# Robin 边界条件处理"
   ]
  },
  {
   "cell_type": "code",
   "execution_count": 19,
   "id": "d1167c73",
   "metadata": {},
   "outputs": [],
   "source": [
    "# Robin_boundary 函数用于处理 Robin 边界条件 \n",
    "def Robin_boundary(Ns, ns, K, B, gamma, q):\n",
    "    Ks = np.zeros((2, 2), dtype = complex)\n",
    "\n",
    "    for s in range(0, Ns):\n",
    "        i = ns[0][s]\n",
    "        j = ns[1][s]\n",
    "        # 线段单元长度\n",
    "        ls = sqrt((x[i]-x[j])**2+(y[i]-y[j])**2)\n",
    "\n",
    "        # 单元刚度矩阵元素\n",
    "        Ks[0][0] = gamma*ls/3\n",
    "        Ks[0][1] = gamma*ls/6\n",
    "        Ks[1][0] = Ks[0][1]\n",
    "        Ks[1][1] = Ks[0][0]\n",
    "        \n",
    "        # 单元刚度矩阵组合至总刚度矩阵\n",
    "        for i in range(0, 2):\n",
    "            for j in range(0, 2):\n",
    "                K[ns[i][s]][ns[j][s]] = K[ns[i][s]][ns[j][s]]+Ks[i][j]\n",
    "            B[ns[i][s]] = B[ns[i][s]]+q*ls/2\n",
    "    return (K, B)"
   ]
  },
  {
   "cell_type": "markdown",
   "id": "b5dff3bf",
   "metadata": {},
   "source": [
    "## 频带设置"
   ]
  },
  {
   "cell_type": "code",
   "execution_count": 20,
   "id": "79d4a352",
   "metadata": {},
   "outputs": [],
   "source": [
    "lambda0 = np.arange(0.1, 10, 0.2)\n",
    "k = 2*pi/lambda0"
   ]
  },
  {
   "cell_type": "markdown",
   "id": "d90683c9",
   "metadata": {},
   "source": [
    "# 有限元计算"
   ]
  },
  {
   "cell_type": "code",
   "execution_count": 21,
   "id": "c4aa6fdd",
   "metadata": {},
   "outputs": [],
   "source": [
    "R_FEM = []\n",
    "T_FEM = []\n",
    "for k0 in k:\n",
    "    # 刚度矩阵初始化\n",
    "    K = np.zeros((Nn, Nn), dtype = complex)\n",
    "    b = np.zeros((Nn), dtype = complex)\n",
    "    # 空气处刚度矩阵方程计算\n",
    "    (Ne, n) = ele_filter(ele_triangle, phy_triangle, 14)\n",
    "    epsilon0 = 1; mur0 = 1; f = 0\n",
    "    alphax = 1/epsilon0; alphay = 1/epsilon0; beta = -k0**2*mur0\n",
    "    (K, b) = stiffness_matrix(Ne, n, K, b, alphax, alphay, beta, f)\n",
    "    # 介质处刚度矩阵方程计算\n",
    "    (Ne, n) = ele_filter(ele_triangle, phy_triangle, 15)\n",
    "    epsilon1 = 2+0*1j; mur0 = 1; f = 0\n",
    "    alphax = 1/epsilon1; alphay = 1/epsilon1; beta = -k0**2*mur0\n",
    "    (K, b) = stiffness_matrix(Ne, n, K, b, alphax, alphay, beta, f)\n",
    "    # 波导壁边界条件处理\n",
    "    (Ns, ns) = ele_filter(ele_line, phy_line, 11)\n",
    "    gamma = 0; q = 0\n",
    "    (K, b) = Robin_boundary(Ns, ns, K, b, gamma, q)\n",
    "    # 入射口处边界条件\n",
    "    (Ns, ns) = ele_filter(ele_line, phy_line, 12)\n",
    "    epsilon0 = 1; H0 = 2\n",
    "    alphax = 1/epsilon0; gamma = 1j*alphax*k0; q = 2*1j*alphax*k0*H0*exp(-1j*k0*0)\n",
    "    (K, b) = Robin_boundary(Ns, ns, K, b, gamma, q)\n",
    "    # 出射口处边界条件\n",
    "    (Ns, ns) = ele_filter(ele_line, phy_line, 13)\n",
    "    epsilon0 = 1\n",
    "    alphax = 1/epsilon0; gamma = alphax*1j*k0; q = 0\n",
    "    (K, b) = Robin_boundary(Ns, ns, K, b, gamma, q)\n",
    "    # 刚度矩阵求解\n",
    "    Hz = np.linalg.solve(K, b)\n",
    "    # 反射系数与透射系数\n",
    "    R = (Hz[106]-H0*exp(-1j*k0*x[106]))/(H0*exp(-1j*k0*x[106]))\n",
    "    T = Hz[135]/(H0*exp(-1j*k0*x[135]))\n",
    "    R_FEM.append(abs(R))\n",
    "    T_FEM.append(abs(T))"
   ]
  },
  {
   "cell_type": "markdown",
   "id": "13d6e22e",
   "metadata": {},
   "source": [
    "# 反射系数解析解计算"
   ]
  },
  {
   "cell_type": "markdown",
   "id": "b69e07e1",
   "metadata": {},
   "source": [
    "$$\n",
    "\\begin{aligned}\n",
    "    &R=\\frac{R_{01}+R_{1t}\\exp(i2k_{1y}d)}{1+R_{1t}R_{01}\\exp(i2k_1yd)}\\\\\n",
    "    &p_{01}=\\frac{\\varepsilon_0k_1}{\\varepsilon_1k_0}\\hspace{5ex}p_{1t}=\\frac{\\varepsilon_1k_0}{\\varepsilon_0k_1}\\\\\n",
    "    &R_{1t}=\\frac{1-p_{1t}}{1+p_{1t}}\\hspace{5ex}R_{01}=\\frac{1-p_{01}}{1+p_{01}}\n",
    "\\end{aligned}\n",
    "$$"
   ]
  },
  {
   "cell_type": "code",
   "execution_count": 22,
   "id": "64a6e1e3",
   "metadata": {},
   "outputs": [],
   "source": [
    "# 此函数用于计算反射系数\n",
    "def analytic(epsilon0, epsilon1, d, k0):\n",
    "    k1 = k0*sqrt(epsilon1)/sqrt(epsilon0)\n",
    "    p01 = (epsilon0*k1)/(epsilon1*k0)\n",
    "    p1t = (epsilon1*k0)/(epsilon0*k1)\n",
    "    R01 = (1-p01)/(1+p01)\n",
    "    R1t = (1-p1t)/(1+p1t)\n",
    "\n",
    "    R = (R01+R1t*exp(1j*2*k1*d))/(1+R1t*R01*exp(1j*2*k1*d))\n",
    "\n",
    "    return R"
   ]
  },
  {
   "cell_type": "code",
   "execution_count": 23,
   "id": "94adc60f",
   "metadata": {},
   "outputs": [],
   "source": [
    "# 解析解计算反射系数\n",
    "lambda1 = np.arange(0.1, 10, 0.1)\n",
    "k = 2*pi/lambda1\n",
    "R_ana = []\n",
    "for k0 in k:\n",
    "    R_ana.append(abs(analytic(epsilon0, epsilon1, 0.5, k0)))"
   ]
  },
  {
   "cell_type": "markdown",
   "id": "35857a6b",
   "metadata": {},
   "source": [
    "# 结果可视化"
   ]
  },
  {
   "cell_type": "code",
   "execution_count": 24,
   "id": "646402bb",
   "metadata": {},
   "outputs": [
    {
     "data": {
      "text/plain": [
       "Text(0.5, 1.0, 'Comparative of media reflection coefficient')"
      ]
     },
     "execution_count": 24,
     "metadata": {},
     "output_type": "execute_result"
    },
    {
     "data": {
      "image/png": "[encoded data removed]",
      "text/plain": [
       "<Figure size 640x480 with 1 Axes>"
      ]
     },
     "metadata": {},
     "output_type": "display_data"
    }
   ],
   "source": [
    "R_FEM = np.array(R_FEM)\n",
    "R_ana = np.array(R_ana)\n",
    "\n",
    "fig, ax = plt.subplots()\n",
    "fem = ax.plot(lambda0, R_FEM, 'yo', label = 'FEM')\n",
    "ana = ax.plot(lambda1, R_ana, 'r-', label = 'analytic')\n",
    "plt.legend()\n",
    "plt.xlabel(r'$\\lambda_0$')\n",
    "plt.ylabel(r'$R$')\n",
    "plt.title('Comparative of media reflection coefficient')"
   ]
  },
  {
   "cell_type": "code",
   "execution_count": null,
   "id": "5e96faac",
   "metadata": {},
   "outputs": [],
   "source": []
  }
 ],
 "metadata": {
  "kernelspec": {
   "display_name": "Python 3 (ipykernel)",
   "language": "python",
   "name": "python3"
  },
  "language_info": {
   "codemirror_mode": {
    "name": "ipython",
    "version": 3
   },
   "file_extension": ".py",
   "mimetype": "text/x-python",
   "name": "python",
   "nbconvert_exporter": "python",
   "pygments_lexer": "ipython3",
   "version": "3.9.13"
  }
 },
 "nbformat": 4,
 "nbformat_minor": 5
}
