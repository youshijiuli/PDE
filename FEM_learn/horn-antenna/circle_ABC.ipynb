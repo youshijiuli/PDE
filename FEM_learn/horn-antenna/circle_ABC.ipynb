{
 "cells": [
  {
   "cell_type": "markdown",
   "id": "33d25180",
   "metadata": {},
   "source": [
    "### 导入库"
   ]
  },
  {
   "cell_type": "code",
   "execution_count": 1,
   "id": "2c6d0a9e",
   "metadata": {},
   "outputs": [],
   "source": [
    "import meshio\n",
    "import numpy as np\n",
    "import matplotlib.pyplot as plt\n",
    "from math import *\n",
    "import scipy.constants as cn\n",
    "%matplotlib inline"
   ]
  },
  {
   "cell_type": "markdown",
   "id": "b6fcf340",
   "metadata": {},
   "source": [
    "### 网格信息读取"
   ]
  },
  {
   "cell_type": "code",
   "execution_count": 2,
   "id": "9fd765e3",
   "metadata": {},
   "outputs": [],
   "source": [
    "mesh = meshio.read(\"horn-antenna-ABC-circle.msh\", file_format = (\"gmsh\"))\n",
    "\n",
    "# 节点坐标提取\n",
    "nodes = mesh.points\n",
    "Nn = nodes.shape[0]\n",
    "x = nodes[:, 0]; y = nodes[:, 1]\n",
    "\n",
    "# 物理组件编号提取\n",
    "phy_line = mesh.cell_data_dict[\"gmsh:physical\"][\"line\"]\n",
    "phy_triangle = mesh.cell_data_dict[\"gmsh:physical\"][\"triangle\"]\n",
    "\n",
    "# 单元编码提取\n",
    "ele_line = mesh.cells_dict[\"line\"]\n",
    "ele_triangle = mesh.cells_dict[\"triangle\"]\n",
    "\n",
    "# ele_filter 为单元筛选函数\n",
    "def ele_filter(ele_data, phy_data, num_phy):\n",
    "    num = np.where(phy_data == num_phy)\n",
    "    count = len(num[0])\n",
    "    elements = ele_data[num[0], :].T\n",
    "    return (count, elements)"
   ]
  },
  {
   "cell_type": "markdown",
   "id": "50d55416",
   "metadata": {},
   "source": [
    "### 刚度矩阵计算"
   ]
  },
  {
   "cell_type": "code",
   "execution_count": 3,
   "id": "fa2730b8",
   "metadata": {},
   "outputs": [],
   "source": [
    "# stiffness_matrix  函数用于刚度矩阵方程的计算\n",
    "def stiffness_matrix(Ne, n, K, B, alphax, alphay, beta, f):\n",
    "    Ke = np.zeros((3, 3), dtype = complex)\n",
    "    Be = np.zeros((3), dtype = complex)\n",
    "    be = np.zeros((3), dtype = float)\n",
    "    ce = np.zeros((3), dtype = float)\n",
    "    \n",
    "    for e in range(0, Ne):\n",
    "        be[0] = y[n[1, e]]-y[n[2, e]]\n",
    "        be[1] = y[n[2, e]]-y[n[0, e]]\n",
    "        be[2] = y[n[0, e]]-y[n[1, e]]\n",
    "        ce[0] = x[n[2, e]]-x[n[1, e]]\n",
    "        ce[1] = x[n[0, e]]-x[n[2, e]]\n",
    "        ce[2] = x[n[1, e]]-x[n[0, e]]\n",
    "        # 三角单元面积\n",
    "        Deltae = abs((be[0]*ce[1]-be[1]*ce[0]))/2.\n",
    "        \n",
    "        # 单元刚度矩阵计算\n",
    "        for i in range(0, 3):\n",
    "            for j in range(0, 3):\n",
    "                if (i == j):\n",
    "                    delta_ij = 1\n",
    "                else:\n",
    "                    delta_ij = 0\n",
    "                Ke[i][j] = (alphax*be[i]*be[j]+alphay*ce[i]*ce[j])/(4.*Deltae)\\\n",
    "                        +Deltae*beta*(1+delta_ij)/12.\n",
    "            Be[i] = Deltae*f/3.\n",
    "        # 单元刚度矩阵组合至总刚度矩阵\n",
    "        for i in range(0, 3):\n",
    "            for j in range(0, 3):\n",
    "                K[n[i][e]][n[j][e]] = K[n[i][e]][n[j][e]]+Ke[i][j]\n",
    "            B[n[i][e]] = B[n[i][e]]+Be[i]\n",
    "    return (K, B)"
   ]
  },
  {
   "cell_type": "code",
   "execution_count": 4,
   "id": "3de0542f",
   "metadata": {},
   "outputs": [],
   "source": [
    "# 刚度矩阵初始化\n",
    "K = np.zeros((Nn, Nn), dtype = complex)\n",
    "b = np.zeros((Nn), dtype = complex)\n",
    "\n",
    "# 基本参数\n",
    "lambda0 = cn.c/6e9\n",
    "k0 = 2*pi/lambda0\n",
    "ky = pi/0.03\n",
    "kx = sqrt(k0**2-ky**2)"
   ]
  },
  {
   "cell_type": "code",
   "execution_count": 5,
   "id": "6124f68e",
   "metadata": {},
   "outputs": [],
   "source": [
    "# 空气处刚度矩阵方程计算\n",
    "mur0 = 1; epsilon0 = 1\n",
    "alphax = 1/mur0; alphay = 1/mur0; beta = -k0**2*epsilon0; f = 0\n",
    "(Ne, n) = ele_filter(ele_triangle, phy_triangle, 9)\n",
    "(K, b) = stiffness_matrix(Ne, n, K, b, alphax, alphay, beta, f)\n",
    "(Ne, n) = ele_filter(ele_triangle, phy_triangle, 10)\n",
    "(K, b) = stiffness_matrix(Ne, n, K, b, alphax, alphay, beta, f)"
   ]
  },
  {
   "cell_type": "markdown",
   "id": "7cf41dc8",
   "metadata": {},
   "source": [
    "### 入射场边界条件处理"
   ]
  },
  {
   "cell_type": "code",
   "execution_count": 6,
   "id": "bf5f56c7",
   "metadata": {},
   "outputs": [],
   "source": [
    "# Robin_boundary 函数用于处理 Robin 边界条件 \n",
    "def Robin_boundary(Ns, ns, K, B, gamma, q):\n",
    "    Ks = np.zeros((2, 2), dtype = complex)\n",
    "\n",
    "    for s in range(0, Ns):\n",
    "        i = ns[0][s]\n",
    "        j = ns[1][s]\n",
    "        # 线段单元长度\n",
    "        ls = sqrt((x[i]-x[j])**2+(y[i]-y[j])**2)\n",
    "\n",
    "        # 单元刚度矩阵元素\n",
    "        Ks[0][0] = gamma[s]*ls/3\n",
    "        Ks[0][1] = gamma[s]*ls/6\n",
    "        Ks[1][0] = Ks[0][1]\n",
    "        Ks[1][1] = Ks[0][0]\n",
    "        \n",
    "        # 单元刚度矩阵组合至总刚度矩阵\n",
    "        for i in range(0, 2):\n",
    "            for j in range(0, 2):\n",
    "                K[ns[i][s]][ns[j][s]] = K[ns[i][s]][ns[j][s]]+Ks[i][j]\n",
    "            B[ns[i][s]] = B[ns[i][s]]+q[s]*ls/2\n",
    "\n",
    "    return (K, B)"
   ]
  },
  {
   "cell_type": "code",
   "execution_count": 7,
   "id": "0cd2ed1a",
   "metadata": {},
   "outputs": [],
   "source": [
    "E0 = 2\n",
    "\n",
    "(Ns, ns) = ele_filter(ele_line, phy_line, 12)\n",
    "gamma = np.zeros((Ns), dtype = complex)\n",
    "q = np.zeros((Ns), dtype = complex)\n",
    "alpha = alphax; gamma[0:Ns] = alpha*1j*kx; q[0:Ns] = 2*alpha*1j*kx*E0*np.exp(-1j*kx*(x[ns[0][0:Ns]]+x[ns[1][0:Ns]])/2)\n",
    "(K, b) = Robin_boundary(Ns, ns, K, b, gamma, q)"
   ]
  },
  {
   "cell_type": "markdown",
   "id": "ee73f3dd",
   "metadata": {},
   "source": [
    "### 二阶 Sommerfeld 辐射条件处理"
   ]
  },
  {
   "cell_type": "code",
   "execution_count": 8,
   "id": "30d16667",
   "metadata": {},
   "outputs": [],
   "source": [
    "# Sommerfeld_condition 函数用于处理二阶 Sommerfeld 辐射边界条件 \n",
    "def Sommerfeld_condition(Ns, ns, K, B, gamma1, gamma2, q):\n",
    "    Ks = np.zeros((2, 2), dtype = complex)\n",
    "    \n",
    "    for s in range(0, Ns):\n",
    "        i = ns[0][s]\n",
    "        j = ns[1][s]\n",
    "        # 线段单元长度\n",
    "        ls = sqrt((x[i]-x[j])**2+(y[i]-y[j])**2)\n",
    "\n",
    "        # 单元刚度矩阵元素\n",
    "        Ks[0][0] = gamma1[s]*ls/3-gamma2[s]/ls\n",
    "        Ks[0][1] = gamma1[s]*ls/6+gamma2[s]/ls\n",
    "        Ks[1][0] = Ks[0][1]\n",
    "        Ks[1][1] = Ks[0][0]\n",
    "        \n",
    "        # 单元刚度矩阵组合至总刚度矩阵\n",
    "        for i in range(0, 2):\n",
    "            for j in range(0, 2):\n",
    "                K[ns[i][s]][ns[j][s]] = K[ns[i][s]][ns[j][s]]+Ks[i][j]\n",
    "            B[ns[i][s]] = B[ns[i][s]]+q[s]*ls/2\n",
    "\n",
    "    return (K, B)"
   ]
  },
  {
   "cell_type": "code",
   "execution_count": 9,
   "id": "104fafdf",
   "metadata": {},
   "outputs": [],
   "source": [
    "# 吸收边界条件\n",
    "\n",
    "(Ns, ns) = ele_filter(ele_line, phy_line, 11)\n",
    "gamma1 = np.zeros((Ns), dtype = complex)\n",
    "gamma2 = np.zeros((Ns), dtype = complex)\n",
    "q = np.zeros((Ns), dtype = complex)\n",
    "R = 0.3; kappa = 1/R\n",
    "gamma1[0:Ns] = alpha*(1j*k0+kappa/2-1j*kappa**2/(8*(1j*kappa-k0))); gamma2[0:Ns] = (-1j*alpha)/(2*1j*kappa-2*k0)\n",
    "q[0:Ns] = 0\n",
    "(K, b) = Sommerfeld_condition(Ns, ns, K, b, gamma1, gamma2, q)"
   ]
  },
  {
   "cell_type": "markdown",
   "id": "da0fa806",
   "metadata": {},
   "source": [
    "### PEC 边界条件处理"
   ]
  },
  {
   "cell_type": "code",
   "execution_count": 10,
   "id": "0eae72fd",
   "metadata": {},
   "outputs": [],
   "source": [
    "# Dirichlet_boundary 函数用于处理 Dirichlet 边界条件\n",
    "def Dirichlet_boundary(Nn, Nl, nd, K, B, p):\n",
    "    for i in range(0, Nl):\n",
    "        B[nd[i]] = p\n",
    "        K[nd[i]][nd[i]] = 1\n",
    "\n",
    "        for j in range(0, Nn):\n",
    "            if j != nd[i]:\n",
    "                B[j] = B[j]-K[j][nd[i]]*p\n",
    "                K[j][nd[i]] = 0\n",
    "                K[nd[i]][j] = 0\n",
    "    \n",
    "    return (K, B)"
   ]
  },
  {
   "cell_type": "code",
   "execution_count": 11,
   "id": "552c0877",
   "metadata": {},
   "outputs": [],
   "source": [
    "# PEC 边界条件处理\n",
    "(Nl, nd) = ele_filter(ele_line, phy_line, 13)\n",
    "nd = np.unique(nd)\n",
    "Nl = len(nd)\n",
    "(K, b) = Dirichlet_boundary(Nn, Nl, nd, K, b, 0)"
   ]
  },
  {
   "cell_type": "markdown",
   "id": "d0571221",
   "metadata": {},
   "source": [
    "### 求解刚度矩阵方程"
   ]
  },
  {
   "cell_type": "code",
   "execution_count": 12,
   "id": "d72ee5cb",
   "metadata": {},
   "outputs": [],
   "source": [
    "Ez = np.linalg.solve(K, b)\n",
    "Ez = np.real(Ez)"
   ]
  },
  {
   "cell_type": "markdown",
   "id": "d27cf62c",
   "metadata": {},
   "source": [
    "### 后处理"
   ]
  },
  {
   "cell_type": "code",
   "execution_count": 13,
   "id": "6dee0fe5",
   "metadata": {},
   "outputs": [
    {
     "data": {
      "image/png": "[encoded data removed]",
      "text/plain": [
       "<Figure size 640x480 with 2 Axes>"
      ]
     },
     "metadata": {},
     "output_type": "display_data"
    }
   ],
   "source": [
    "plt.tricontourf(x, y, Ez, levels = 100, cmap = 'rainbow')\n",
    "# plt.triplot(x, y, 'g-', linewidth=0.1)\n",
    "plt.colorbar()\n",
    "plt.axis('image')\n",
    "plt.xlabel('x/m')\n",
    "plt.ylabel('y/m')\n",
    "plt.savefig('ciircle_ABC_order2.png', format = 'png')"
   ]
  },
  {
   "cell_type": "code",
   "execution_count": null,
   "id": "c3517ed5",
   "metadata": {},
   "outputs": [],
   "source": []
  }
 ],
 "metadata": {
  "kernelspec": {
   "display_name": "Python 3 (ipykernel)",
   "language": "python",
   "name": "python3"
  },
  "language_info": {
   "codemirror_mode": {
    "name": "ipython",
    "version": 3
   },
   "file_extension": ".py",
   "mimetype": "text/x-python",
   "name": "python",
   "nbconvert_exporter": "python",
   "pygments_lexer": "ipython3",
   "version": "3.9.13"
  }
 },
 "nbformat": 4,
 "nbformat_minor": 5
}
