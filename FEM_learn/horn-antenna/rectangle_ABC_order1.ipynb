{
 "cells": [
  {
   "cell_type": "markdown",
   "id": "b2cb6ebd",
   "metadata": {},
   "source": [
    "### 导入库"
   ]
  },
  {
   "cell_type": "code",
   "execution_count": 1,
   "id": "41476575",
   "metadata": {},
   "outputs": [],
   "source": [
    "import meshio\n",
    "import numpy as np\n",
    "import matplotlib.pyplot as plt\n",
    "from math import *\n",
    "import scipy.constants as cn\n",
    "%matplotlib inline"
   ]
  },
  {
   "cell_type": "markdown",
   "id": "5a6ae61d",
   "metadata": {},
   "source": [
    "### 网格信息读取"
   ]
  },
  {
   "cell_type": "code",
   "execution_count": 2,
   "id": "b1dc24fd",
   "metadata": {},
   "outputs": [],
   "source": [
    "mesh = meshio.read(\"horn-antenna-ABC-1order.msh\", file_format = (\"gmsh\"))\n",
    "\n",
    "# 节点坐标提取\n",
    "nodes = mesh.points\n",
    "Nn = nodes.shape[0]\n",
    "x = nodes[:, 0]; y = nodes[:, 1]\n",
    "\n",
    "# 物理组件编号提取\n",
    "phy_line = mesh.cell_data_dict[\"gmsh:physical\"][\"line\"]\n",
    "phy_triangle = mesh.cell_data_dict[\"gmsh:physical\"][\"triangle\"]\n",
    "\n",
    "# 单元编码提取\n",
    "ele_line = mesh.cells_dict[\"line\"]\n",
    "ele_triangle = mesh.cells_dict[\"triangle\"]\n",
    "\n",
    "# ele_filter 为单元筛选函数\n",
    "def ele_filter(ele_data, phy_data, num_phy):\n",
    "    num = np.where(phy_data == num_phy)\n",
    "    count = len(num[0])\n",
    "    elements = ele_data[num[0], :].T\n",
    "    return (count, elements)"
   ]
  },
  {
   "cell_type": "markdown",
   "id": "81a35f09",
   "metadata": {},
   "source": [
    "### 刚度矩阵计算"
   ]
  },
  {
   "cell_type": "markdown",
   "id": "cc2bcab6",
   "metadata": {},
   "source": [
    "**根据单元泛函极值原理计算单元刚度矩阵方程**\n",
    "\n",
    "$$\n",
    "\\begin{aligned}\n",
    "    \\frac{\\partial F^e}{\\partial \\boldsymbol{\\varphi}^e}&=\\boldsymbol{K}^e\\boldsymbol{\\varphi}^e-\\boldsymbol{b}^e=\\boldsymbol{0}\\\\\n",
    "    K_{ij}^e&=\\iint_{\\Omega^e}\\left(\\alpha_x\\frac{\\partial N_i^e}{\\partial x}\\frac{\\partial N_j^e}{\\partial x}+\\alpha_y\\frac{\\partial N_i^e}{\\partial y}\\frac{\\partial N_j^e}{\\partial y}+\\beta N_i^eN_j^e\\right)\\mathrm{d}x\\mathrm{d}y\\\\\n",
    "    &\\approx\\frac{1}{4\\Delta^e}(\\alpha_x^eb_i^eb_j^e+\\alpha_y^ec_i^ec_j^e)+\\frac{\\Delta^e}{12}\\beta^e(1+\\delta_{ij})\\\\\n",
    "    b_i^e&=\\iint_{\\Omega^e}fN_i^e\\mathrm{d}x\\mathrm{d}y\\approx\\frac{\\Delta^e}{3}f^e\n",
    "\\end{aligned}\n",
    "$$\n",
    "\n",
    "**单元刚度矩阵方程组合为总刚度矩阵方程**\n",
    "\n",
    "$$\n",
    "\\begin{aligned}\n",
    "    \\sum_{e=1}^M\\frac{\\partial F^e}{\\partial \\varphi^e}&=\\sum_{e=1}^M\\left(\\boldsymbol{K}^e\\boldsymbol{\\varphi}^e-\\boldsymbol{b}^e\\right)\\\\\n",
    "    &=\\boldsymbol{K}\\boldsymbol{\\varphi}-\\boldsymbol{b}=\\boldsymbol{0}\n",
    "\\end{aligned}\n",
    "$$"
   ]
  },
  {
   "cell_type": "code",
   "execution_count": 3,
   "id": "2b7da1f2",
   "metadata": {},
   "outputs": [],
   "source": [
    "# stiffness_matrix  函数用于刚度矩阵方程的计算\n",
    "def stiffness_matrix(Ne, n, K, B, alphax, alphay, beta, f):\n",
    "    Ke = np.zeros((3, 3), dtype = complex)\n",
    "    Be = np.zeros((3), dtype = complex)\n",
    "    be = np.zeros((3), dtype = float)\n",
    "    ce = np.zeros((3), dtype = float)\n",
    "    \n",
    "    for e in range(0, Ne):\n",
    "        be[0] = y[n[1, e]]-y[n[2, e]]\n",
    "        be[1] = y[n[2, e]]-y[n[0, e]]\n",
    "        be[2] = y[n[0, e]]-y[n[1, e]]\n",
    "        ce[0] = x[n[2, e]]-x[n[1, e]]\n",
    "        ce[1] = x[n[0, e]]-x[n[2, e]]\n",
    "        ce[2] = x[n[1, e]]-x[n[0, e]]\n",
    "        # 三角单元面积\n",
    "        Deltae = abs((be[0]*ce[1]-be[1]*ce[0]))/2.\n",
    "        \n",
    "        # 单元刚度矩阵计算\n",
    "        for i in range(0, 3):\n",
    "            for j in range(0, 3):\n",
    "                if (i == j):\n",
    "                    delta_ij = 1\n",
    "                else:\n",
    "                    delta_ij = 0\n",
    "                Ke[i][j] = (alphax*be[i]*be[j]+alphay*ce[i]*ce[j])/(4.*Deltae)\\\n",
    "                        +Deltae*beta*(1+delta_ij)/12.\n",
    "            Be[i] = Deltae*f/3.\n",
    "        # 单元刚度矩阵组合至总刚度矩阵\n",
    "        for i in range(0, 3):\n",
    "            for j in range(0, 3):\n",
    "                K[n[i][e]][n[j][e]] = K[n[i][e]][n[j][e]]+Ke[i][j]\n",
    "            B[n[i][e]] = B[n[i][e]]+Be[i]\n",
    "    return (K, B)"
   ]
  },
  {
   "cell_type": "code",
   "execution_count": 4,
   "id": "df9b23f2",
   "metadata": {},
   "outputs": [],
   "source": [
    "# 刚度矩阵初始化\n",
    "K = np.zeros((Nn, Nn), dtype = complex)\n",
    "b = np.zeros((Nn), dtype = complex)\n",
    "\n",
    "# 基本参数\n",
    "lambda0 = cn.c/5.5e9\n",
    "k0 = 2*pi/lambda0\n",
    "ky = pi/0.03\n",
    "kx = sqrt(k0**2-ky**2)"
   ]
  },
  {
   "cell_type": "code",
   "execution_count": 5,
   "id": "235b7ce9",
   "metadata": {},
   "outputs": [],
   "source": [
    "# 空气处刚度矩阵方程计算\n",
    "epsilon0 = 1; mur0 = 1\n",
    "alphax = 1/mur0; alphay = 1/mur0; beta = -k0**2*epsilon0; f = 0\n",
    "(Ne, n) = ele_filter(ele_triangle, phy_triangle, 14)\n",
    "(K, b) = stiffness_matrix(Ne, n, K, b, alphax, alphay, beta, f)\n",
    "(Ne, n) = ele_filter(ele_triangle, phy_triangle, 15)\n",
    "(K, b) = stiffness_matrix(Ne, n, K, b, alphax, alphay, beta, f)"
   ]
  },
  {
   "cell_type": "markdown",
   "id": "c588c270",
   "metadata": {},
   "source": [
    "### Robin 边界条件处理"
   ]
  },
  {
   "cell_type": "markdown",
   "id": "2adf0e10",
   "metadata": {},
   "source": [
    "**对边界单元求泛函极值，得到附加的单元刚度矩阵方程**\n",
    "\n",
    "$$\n",
    "\\begin{aligned}\n",
    "    \\frac{\\partial F_b^s}{\\partial \\boldsymbol{\\varphi}^s}&=\\boldsymbol{K}^s\\boldsymbol{\\varphi}^s-\\boldsymbol{b}^s=\\boldsymbol{0}\\\\\n",
    "    K_{ij}^s&=\\int_0^1\\gamma N_i^sN_j^sl^s\\mathrm{d}\\zeta\\approx\\gamma^s\\frac{l^s}{6}(1+\\delta_{ij})\\\\\n",
    "    b_i^s&=\\int_0^1qN_i^sl^s\\mathrm{d}\\zeta\\approx q^s\\frac{l^s}{2}\n",
    "\\end{aligned}\n",
    "$$\n",
    "\n",
    "**单元刚度矩阵组合并附加至总刚度矩阵方程**\n",
    "\n",
    "$$\n",
    "\\begin{aligned}\n",
    "    \\frac{\\partial F}{\\partial\\boldsymbol{\\varphi}}&=\\sum_{e=1}^{M}\\frac{\\partial F}{\\partial \\varphi^e}+\\sum_{s=1}^{M_s}\\frac{\\partial F_b^s}{\\partial \\varphi^s}\\\\\n",
    "    &=\\sum_{e=1}^M\\left(\\boldsymbol{K}^e\\boldsymbol{\\varphi}^e-\\boldsymbol{b}^e\\right)+\\sum_{s=1}^{M_s}\\left(\\boldsymbol{K}^s\\boldsymbol{\\varphi}^s-\\boldsymbol{b}^s\\right)=\\boldsymbol{0}\n",
    "\\end{aligned}\n",
    "$$"
   ]
  },
  {
   "cell_type": "code",
   "execution_count": 6,
   "id": "674693e2",
   "metadata": {},
   "outputs": [],
   "source": [
    "# Robin_boundary 函数用于处理 Robin 边界条件 \n",
    "def Robin_boundary(Ns, ns, K, B, gamma, q):\n",
    "    Ks = np.zeros((2, 2), dtype = complex)\n",
    "\n",
    "    for s in range(0, Ns):\n",
    "        i = ns[0][s]\n",
    "        j = ns[1][s]\n",
    "        # 线段单元长度\n",
    "        ls = sqrt((x[i]-x[j])**2+(y[i]-y[j])**2)\n",
    "\n",
    "        # 单元刚度矩阵元素\n",
    "        Ks[0][0] = gamma[s]*ls/3\n",
    "        Ks[0][1] = gamma[s]*ls/6\n",
    "        Ks[1][0] = Ks[0][1]\n",
    "        Ks[1][1] = Ks[0][0]\n",
    "        \n",
    "        # 单元刚度矩阵组合至总刚度矩阵\n",
    "        for i in range(0, 2):\n",
    "            for j in range(0, 2):\n",
    "                K[ns[i][s]][ns[j][s]] = K[ns[i][s]][ns[j][s]]+Ks[i][j]\n",
    "            B[ns[i][s]] = B[ns[i][s]]+q[s]*ls/2\n",
    "\n",
    "    return (K, B)"
   ]
  },
  {
   "cell_type": "code",
   "execution_count": 7,
   "id": "71bd546c",
   "metadata": {},
   "outputs": [],
   "source": [
    "# 入射口处边界条件\n",
    "E0 = 2\n",
    "(Ns, ns) = ele_filter(ele_line, phy_line, 16)\n",
    "gamma = np.zeros((Ns), dtype = complex)\n",
    "q = np.zeros((Ns), dtype = complex)\n",
    "gamma[0:Ns] = 1j*kx/mur0; q[0:Ns] = 2*1j*kx/mur0*E0*np.exp(-1j*kx*(x[ns[0][0:Ns]]+x[ns[1][0:Ns]])/2)\n",
    "(K, b) = Robin_boundary(Ns, ns, K, b, gamma, q)"
   ]
  },
  {
   "cell_type": "code",
   "execution_count": 8,
   "id": "1e7dd11f",
   "metadata": {},
   "outputs": [],
   "source": [
    "# 吸收边界条件\n",
    "(Ns, ns) = ele_filter(ele_line, phy_line, 18)\n",
    "gamma = np.zeros((Ns), dtype = complex)\n",
    "q = np.zeros((Ns), dtype = complex)\n",
    "gamma[0:Ns] = 1j*k0/mur0; q[0:Ns] = 0\n",
    "(K, b) = Robin_boundary(Ns, ns, K, b, gamma, q)"
   ]
  },
  {
   "cell_type": "markdown",
   "id": "108b1d47",
   "metadata": {},
   "source": [
    "### Dirichlet 边界条件处理"
   ]
  },
  {
   "cell_type": "code",
   "execution_count": 9,
   "id": "de122e9b",
   "metadata": {},
   "outputs": [],
   "source": [
    "def Dirichlet_boundary(Nn, Nl, nd, A, B):\n",
    "    for i in range(0, Nl):\n",
    "        A[nd[i]][nd[i]] = 1\n",
    "        B[nd[i]][nd[i]] = 0\n",
    "\n",
    "        for j in range(0, Nn):\n",
    "            if j != nd[i]:\n",
    "                A[nd[i]][j] = 0\n",
    "                B[nd[i]][j] = 0\n",
    "\n",
    "    return (A, B)"
   ]
  },
  {
   "cell_type": "code",
   "execution_count": 10,
   "id": "941b5f88",
   "metadata": {},
   "outputs": [],
   "source": [
    "(Nl, nd) = ele_filter(ele_line, phy_line, 17)\n",
    "nd = np.unique(nd)\n",
    "Nl = len(nd)\n",
    "(K, b) = Dirichlet_boundary(Nn, Nl, nd, K, b, 0)"
   ]
  },
  {
   "cell_type": "markdown",
   "id": "0325c117",
   "metadata": {},
   "source": [
    "### 求解刚度矩阵方程"
   ]
  },
  {
   "cell_type": "code",
   "execution_count": 11,
   "id": "cadab382",
   "metadata": {},
   "outputs": [],
   "source": [
    "Ez = np.linalg.solve(K, b)\n",
    "Ez = np.real(Ez)"
   ]
  },
  {
   "cell_type": "markdown",
   "id": "122d5fee",
   "metadata": {},
   "source": [
    "### 后处理"
   ]
  },
  {
   "cell_type": "code",
   "execution_count": 12,
   "id": "e960903e",
   "metadata": {},
   "outputs": [
    {
     "data": {
      "image/png": "[encoded data removed]",
      "text/plain": [
       "<Figure size 640x480 with 2 Axes>"
      ]
     },
     "metadata": {},
     "output_type": "display_data"
    }
   ],
   "source": [
    "plt.tricontourf(x, y, Ez, levels = 100, cmap = 'rainbow')\n",
    "# plt.triplot(x, y, 'g-', linewidth=0.1)\n",
    "plt.colorbar()\n",
    "plt.axis('image')\n",
    "plt.xlabel('x/m')\n",
    "plt.ylabel('y/m')\n",
    "plt.savefig('rectangle_ABC_order1.png', format = 'png')"
   ]
  },
  {
   "cell_type": "code",
   "execution_count": null,
   "id": "ce3026ce",
   "metadata": {},
   "outputs": [],
   "source": []
  }
 ],
 "metadata": {
  "kernelspec": {
   "display_name": "Python 3 (ipykernel)",
   "language": "python",
   "name": "python3"
  },
  "language_info": {
   "codemirror_mode": {
    "name": "ipython",
    "version": 3
   },
   "file_extension": ".py",
   "mimetype": "text/x-python",
   "name": "python",
   "nbconvert_exporter": "python",
   "pygments_lexer": "ipython3",
   "version": "3.9.13"
  }
 },
 "nbformat": 4,
 "nbformat_minor": 5
}
