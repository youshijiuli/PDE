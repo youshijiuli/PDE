{
 "cells": [
  {
   "cell_type": "markdown",
   "id": "818796fe",
   "metadata": {},
   "source": [
    "### 导入库"
   ]
  },
  {
   "cell_type": "code",
   "execution_count": 91,
   "id": "289b771d",
   "metadata": {},
   "outputs": [],
   "source": [
    "import meshio\n",
    "import numpy as np\n",
    "from scipy import linalg\n",
    "import matplotlib.pyplot as plt\n",
    "%matplotlib inline"
   ]
  },
  {
   "cell_type": "markdown",
   "id": "46b9de80",
   "metadata": {},
   "source": [
    "### 网格信息读取"
   ]
  },
  {
   "cell_type": "code",
   "execution_count": 92,
   "id": "4590dade",
   "metadata": {},
   "outputs": [],
   "source": [
    "mesh = meshio.read(\"null.msh\", file_format = (\"gmsh\"))\n",
    "\n",
    "# 节点坐标提取\n",
    "nodes = mesh.points\n",
    "Nn = nodes.shape[0]\n",
    "x = nodes[:, 0]; y = nodes[:, 1]\n",
    "\n",
    "# 物理组件编号提取\n",
    "phy_line = mesh.cell_data_dict[\"gmsh:physical\"][\"line\"]\n",
    "phy_triangle = mesh.cell_data_dict[\"gmsh:physical\"][\"triangle\"]\n",
    "\n",
    "# 单元编码提取\n",
    "ele_line = mesh.cells_dict[\"line\"]\n",
    "ele_triangle = mesh.cells_dict[\"triangle\"]\n",
    "\n",
    "# ele_filter 为单元筛选函数\n",
    "def ele_filter(ele_data, phy_data, num_phy):\n",
    "    num = np.where(phy_data == num_phy)\n",
    "    count = len(num[0])\n",
    "    elements = ele_data[num[0], :].T\n",
    "    return (count, elements)"
   ]
  },
  {
   "cell_type": "markdown",
   "id": "9db16e2f",
   "metadata": {},
   "source": [
    "### 刚度矩阵计算"
   ]
  },
  {
   "cell_type": "markdown",
   "id": "694c0c6a",
   "metadata": {},
   "source": [
    "$$\n",
    "\\begin{aligned}\n",
    "    \\frac{\\partial^2\\varphi}{\\partial x^2}+\\frac{\\partial^2\\varphi}{\\partial y^2}+k_t^2\\varphi=0\\Rightarrow&\\boldsymbol{A}\\varphi=k_t^2\\boldsymbol{B}\\varphi\\\\\n",
    "    &A_{ij}^e=\\int_{\\Omega^e}\\left(\\frac{\\partial N_i^e}{\\partial x}\\frac{\\partial N_j^e}{\\partial x}+\\frac{\\partial N_i^e}{\\partial y}\\frac{\\partial N_j}{\\partial y}\\right)\\mathrm{d}\\Omega\\approx\\frac{1}{4\\Delta^e}(b_i^eb_j^e+c_i^ec_j^e)\\\\\n",
    "    &B_{ij}^e=\\int_{\\Omega^e}N_i^eN_j^e\\mathrm{d}\\Omega\\approx\\frac{\\Delta^e}{12}(1+\\delta_{ij})\n",
    "\\end{aligned}\n",
    "$$"
   ]
  },
  {
   "cell_type": "code",
   "execution_count": 93,
   "id": "8edb1cdd",
   "metadata": {},
   "outputs": [],
   "source": [
    "# stiffness_matrix  函数用于刚度矩阵方程的计算\n",
    "def stiffness_matrix(Ne, n, A, B, alphax, alphay):\n",
    "    Ae = np.zeros((3, 3), dtype = float)\n",
    "    Be = np.zeros((3, 3), dtype = float)\n",
    "    be = np.zeros((3), dtype = float)\n",
    "    ce = np.zeros((3), dtype = float)\n",
    "    \n",
    "    for e in range(0, Ne):\n",
    "        be[0] = y[n[1, e]]-y[n[2, e]]\n",
    "        be[1] = y[n[2, e]]-y[n[0, e]]\n",
    "        be[2] = y[n[0, e]]-y[n[1, e]]\n",
    "        ce[0] = x[n[2, e]]-x[n[1, e]]\n",
    "        ce[1] = x[n[0, e]]-x[n[2, e]]\n",
    "        ce[2] = x[n[1, e]]-x[n[0, e]]\n",
    "        # 三角单元面积\n",
    "        Deltae = abs((be[0]*ce[1]-be[1]*ce[0]))/2.\n",
    "\n",
    "        # 单元刚度矩阵计算\n",
    "        for i in range(0, 3):\n",
    "            for j in range(0, 3):\n",
    "                if (i == j):\n",
    "                    delta_ij = 1\n",
    "                else:\n",
    "                    delta_ij = 0\n",
    "                Ae[i][j] = (alphax*be[i]*be[j]+alphay*ce[i]*ce[j])/(4.*Deltae)\n",
    "                Be[i][j] = Deltae*(1+delta_ij)/12.\n",
    "        # 单元刚度矩阵组合至总刚度矩阵\n",
    "        for i in range(0, 3):\n",
    "            for j in range(0, 3):\n",
    "                A[n[i][e]][n[j][e]] = A[n[i][e]][n[j][e]]+Ae[i][j]\n",
    "                B[n[i][e]][n[j][e]] = B[n[i][e]][n[j][e]]+Be[i][j]\n",
    "\n",
    "    return (A, B)"
   ]
  },
  {
   "cell_type": "code",
   "execution_count": 94,
   "id": "12915009",
   "metadata": {},
   "outputs": [],
   "source": [
    "# 刚度矩阵初始化\n",
    "A = np.zeros((Nn, Nn), dtype = float)\n",
    "B = np.zeros((Nn, Nn), dtype = float)"
   ]
  },
  {
   "cell_type": "code",
   "execution_count": 95,
   "id": "2ad792d4",
   "metadata": {},
   "outputs": [],
   "source": [
    "# 空气处刚度矩阵方程计算\n",
    "(Ne, n) = ele_filter(ele_triangle, phy_triangle, 6)\n",
    "alphax = 1; alphay = 1\n",
    "(A, B) = stiffness_matrix(Ne, n, A, B, alphax, alphay)"
   ]
  },
  {
   "cell_type": "markdown",
   "id": "ee06e3e5",
   "metadata": {},
   "source": [
    "### PEC 边界条件处理"
   ]
  },
  {
   "cell_type": "code",
   "execution_count": 96,
   "id": "ad773393",
   "metadata": {},
   "outputs": [],
   "source": [
    "# Dirichlet_boundary 函数用于处理 Dirichlet 边界条件\n",
    "def Dirichlet_boundary(Nn, Nl, nd, A, B):\n",
    "    for i in range(0, Nl):\n",
    "        for j in range(0, Nn):\n",
    "            A[nd[i]][j] = 0\n",
    "            B[nd[i]][j] = 0\n",
    "        A[nd[i]][nd[i]] = 1\n",
    "        \n",
    "    return (A, B)"
   ]
  },
  {
   "cell_type": "code",
   "execution_count": 97,
   "id": "f8c174b8",
   "metadata": {},
   "outputs": [],
   "source": [
    "# PEC 边界条件处理\n",
    "(Nl, nd) = ele_filter(ele_line, phy_line, 5)\n",
    "nd = np.unique(nd)\n",
    "Nl = len(nd)\n",
    "(A, B) = Dirichlet_boundary(Nn, Nl, nd, A, B)"
   ]
  },
  {
   "cell_type": "markdown",
   "id": "36fe13a6",
   "metadata": {},
   "source": [
    "### 广义本征值求解"
   ]
  },
  {
   "cell_type": "code",
   "execution_count": 107,
   "id": "45120aee",
   "metadata": {},
   "outputs": [],
   "source": [
    "(e, v) = linalg.eig(A, B)\n",
    "e = np.vstack((np.real(e), np.imag(e))).T\n",
    "Ez = v[:, 22]"
   ]
  },
  {
   "cell_type": "markdown",
   "id": "738134a6",
   "metadata": {},
   "source": [
    "### 可视化"
   ]
  },
  {
   "cell_type": "code",
   "execution_count": 108,
   "id": "86d0d2ed",
   "metadata": {},
   "outputs": [
    {
     "data": {
      "image/png": "[encoded data removed]",
      "text/plain": [
       "<Figure size 640x480 with 2 Axes>"
      ]
     },
     "metadata": {},
     "output_type": "display_data"
    }
   ],
   "source": [
    "plt.tricontourf(x, y, Ez, levels = 50, cmap = 'rainbow')\n",
    "# plt.triplot(x, y, 'g-', linewidth=0.1)\n",
    "plt.colorbar()\n",
    "plt.axis('image')\n",
    "plt.title(r'$E_z$')\n",
    "plt.xlabel('x/m')\n",
    "plt.ylabel('y/m')\n",
    "plt.savefig('TM11.png')"
   ]
  },
  {
   "cell_type": "code",
   "execution_count": null,
   "id": "6abe7a8f",
   "metadata": {},
   "outputs": [],
   "source": []
  }
 ],
 "metadata": {
  "kernelspec": {
   "display_name": "Python 3 (ipykernel)",
   "language": "python",
   "name": "python3"
  },
  "language_info": {
   "codemirror_mode": {
    "name": "ipython",
    "version": 3
   },
   "file_extension": ".py",
   "mimetype": "text/x-python",
   "name": "python",
   "nbconvert_exporter": "python",
   "pygments_lexer": "ipython3",
   "version": "3.9.13"
  }
 },
 "nbformat": 4,
 "nbformat_minor": 5
}
